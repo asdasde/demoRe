{
 "cells": [
  {
   "cell_type": "code",
   "execution_count": 112,
   "metadata": {},
   "outputs": [],
   "source": [
    "import pandas as pd\n",
    "import numpy as np\n",
    "import math\n",
    "import sys\n",
    "from scipy.sparse.linalg import svds"
   ]
  },
  {
   "cell_type": "code",
   "execution_count": 85,
   "metadata": {},
   "outputs": [
    {
     "name": "stdout",
     "output_type": "stream",
     "text": [
      "        userId  movieId  rating\n",
      "0            1       31     2.5\n",
      "1            1     1029     3.0\n",
      "2            1     1061     3.0\n",
      "3            1     1129     2.0\n",
      "4            1     1172     4.0\n",
      "...        ...      ...     ...\n",
      "99999      671     6268     2.5\n",
      "100000     671     6269     4.0\n",
      "100001     671     6365     4.0\n",
      "100002     671     6385     2.5\n",
      "100003     671     6565     3.5\n",
      "\n",
      "[100004 rows x 3 columns]\n"
     ]
    }
   ],
   "source": [
    "cols = ['userId', 'movieId', 'rating']\n",
    "\n",
    "ratings = pd.read_csv(r'C:\\Users\\Korisnik\\Desktop\\Work\\DataSets\\ratings_small.csv', usecols = cols)\n",
    "print(ratings)"
   ]
  },
  {
   "cell_type": "code",
   "execution_count": 86,
   "metadata": {},
   "outputs": [
    {
     "data": {
      "text/plain": [
       "array([[1.000e+00, 3.100e+01, 2.500e+00],\n",
       "       [1.000e+00, 1.029e+03, 3.000e+00],\n",
       "       [1.000e+00, 1.061e+03, 3.000e+00],\n",
       "       ...,\n",
       "       [6.710e+02, 6.365e+03, 4.000e+00],\n",
       "       [6.710e+02, 6.385e+03, 2.500e+00],\n",
       "       [6.710e+02, 6.565e+03, 3.500e+00]])"
      ]
     },
     "execution_count": 86,
     "metadata": {},
     "output_type": "execute_result"
    }
   ],
   "source": [
    "ratings_set = ratings.values\n",
    "ratings_set"
   ]
  },
  {
   "cell_type": "code",
   "execution_count": 87,
   "metadata": {},
   "outputs": [],
   "source": [
    "ratings_table = ratings.pivot_table(index = 'userId', columns = 'movieId', values = 'rating')\n",
    "\n",
    "averages = ratings_table.mean(axis = 1)\n",
    "\n",
    "normalized_ratings_table = ratings_table.apply(lambda x : x - averages[x.name], axis = 1)\n",
    "normalized_ratings_table = normalized_ratings_table.fillna(0)"
   ]
  },
  {
   "cell_type": "code",
   "execution_count": 88,
   "metadata": {},
   "outputs": [
    {
     "name": "stdout",
     "output_type": "stream",
     "text": [
      "movieId    1       2       3       4       5         6       7       8       \\\n",
      "userId                                                                        \n",
      "1        0.000000     0.0    0.00     0.0     0.0  0.000000     0.0     0.0   \n",
      "2        0.000000     0.0    0.00     0.0     0.0  0.000000     0.0     0.0   \n",
      "3        0.000000     0.0    0.00     0.0     0.0  0.000000     0.0     0.0   \n",
      "4        0.000000     0.0    0.00     0.0     0.0  0.000000     0.0     0.0   \n",
      "5        0.000000     0.0    0.09     0.0     0.0  0.000000     0.0     0.0   \n",
      "...           ...     ...     ...     ...     ...       ...     ...     ...   \n",
      "667      0.000000     0.0    0.00     0.0     0.0  0.352941     0.0     0.0   \n",
      "668      0.000000     0.0    0.00     0.0     0.0  0.000000     0.0     0.0   \n",
      "669      0.000000     0.0    0.00     0.0     0.0  0.000000     0.0     0.0   \n",
      "670      0.193548     0.0    0.00     0.0     0.0  0.000000     0.0     0.0   \n",
      "671      1.082609     0.0    0.00     0.0     0.0  0.000000     0.0     0.0   \n",
      "\n",
      "movieId  9         10      ...  161084  161155  161594  161830  161918  \\\n",
      "userId                     ...                                           \n",
      "1           0.0  0.000000  ...     0.0     0.0     0.0     0.0     0.0   \n",
      "2           0.0  0.513158  ...     0.0     0.0     0.0     0.0     0.0   \n",
      "3           0.0  0.000000  ...     0.0     0.0     0.0     0.0     0.0   \n",
      "4           0.0 -0.348039  ...     0.0     0.0     0.0     0.0     0.0   \n",
      "5           0.0  0.000000  ...     0.0     0.0     0.0     0.0     0.0   \n",
      "...         ...       ...  ...     ...     ...     ...     ...     ...   \n",
      "667         0.0  0.000000  ...     0.0     0.0     0.0     0.0     0.0   \n",
      "668         0.0  0.000000  ...     0.0     0.0     0.0     0.0     0.0   \n",
      "669         0.0  0.000000  ...     0.0     0.0     0.0     0.0     0.0   \n",
      "670         0.0  0.000000  ...     0.0     0.0     0.0     0.0     0.0   \n",
      "671         0.0  0.000000  ...     0.0     0.0     0.0     0.0     0.0   \n",
      "\n",
      "movieId  161944  162376  162542  162672  163949  \n",
      "userId                                           \n",
      "1           0.0     0.0     0.0     0.0     0.0  \n",
      "2           0.0     0.0     0.0     0.0     0.0  \n",
      "3           0.0     0.0     0.0     0.0     0.0  \n",
      "4           0.0     0.0     0.0     0.0     0.0  \n",
      "5           0.0     0.0     0.0     0.0     0.0  \n",
      "...         ...     ...     ...     ...     ...  \n",
      "667         0.0     0.0     0.0     0.0     0.0  \n",
      "668         0.0     0.0     0.0     0.0     0.0  \n",
      "669         0.0     0.0     0.0     0.0     0.0  \n",
      "670         0.0     0.0     0.0     0.0     0.0  \n",
      "671         0.0     0.0     0.0     0.0     0.0  \n",
      "\n",
      "[671 rows x 9066 columns]\n"
     ]
    }
   ],
   "source": [
    "print(normalized_ratings_table)"
   ]
  },
  {
   "cell_type": "code",
   "execution_count": 89,
   "metadata": {},
   "outputs": [],
   "source": [
    "R = normalized_ratings_table.values"
   ]
  },
  {
   "cell_type": "code",
   "execution_count": 90,
   "metadata": {},
   "outputs": [],
   "source": [
    "keys, values = normalized_ratings_table.columns, (np.arange(9066)+1)\n",
    "\n",
    "new_id = dict(zip(keys, values))\n",
    "new_id\n",
    "\n",
    "normalized_ratings_table.columns = np.arange(9066)+1"
   ]
  },
  {
   "cell_type": "code",
   "execution_count": 91,
   "metadata": {},
   "outputs": [
    {
     "name": "stdout",
     "output_type": "stream",
     "text": [
      "            1     2     3     4     5         6     7     8     9     \\\n",
      "userId                                                                 \n",
      "1       0.000000   0.0  0.00   0.0   0.0  0.000000   0.0   0.0   0.0   \n",
      "2       0.000000   0.0  0.00   0.0   0.0  0.000000   0.0   0.0   0.0   \n",
      "3       0.000000   0.0  0.00   0.0   0.0  0.000000   0.0   0.0   0.0   \n",
      "4       0.000000   0.0  0.00   0.0   0.0  0.000000   0.0   0.0   0.0   \n",
      "5       0.000000   0.0  0.09   0.0   0.0  0.000000   0.0   0.0   0.0   \n",
      "...          ...   ...   ...   ...   ...       ...   ...   ...   ...   \n",
      "667     0.000000   0.0  0.00   0.0   0.0  0.352941   0.0   0.0   0.0   \n",
      "668     0.000000   0.0  0.00   0.0   0.0  0.000000   0.0   0.0   0.0   \n",
      "669     0.000000   0.0  0.00   0.0   0.0  0.000000   0.0   0.0   0.0   \n",
      "670     0.193548   0.0  0.00   0.0   0.0  0.000000   0.0   0.0   0.0   \n",
      "671     1.082609   0.0  0.00   0.0   0.0  0.000000   0.0   0.0   0.0   \n",
      "\n",
      "            10    ...  9057  9058  9059  9060  9061  9062  9063  9064  9065  \\\n",
      "userId            ...                                                         \n",
      "1       0.000000  ...   0.0   0.0   0.0   0.0   0.0   0.0   0.0   0.0   0.0   \n",
      "2       0.513158  ...   0.0   0.0   0.0   0.0   0.0   0.0   0.0   0.0   0.0   \n",
      "3       0.000000  ...   0.0   0.0   0.0   0.0   0.0   0.0   0.0   0.0   0.0   \n",
      "4      -0.348039  ...   0.0   0.0   0.0   0.0   0.0   0.0   0.0   0.0   0.0   \n",
      "5       0.000000  ...   0.0   0.0   0.0   0.0   0.0   0.0   0.0   0.0   0.0   \n",
      "...          ...  ...   ...   ...   ...   ...   ...   ...   ...   ...   ...   \n",
      "667     0.000000  ...   0.0   0.0   0.0   0.0   0.0   0.0   0.0   0.0   0.0   \n",
      "668     0.000000  ...   0.0   0.0   0.0   0.0   0.0   0.0   0.0   0.0   0.0   \n",
      "669     0.000000  ...   0.0   0.0   0.0   0.0   0.0   0.0   0.0   0.0   0.0   \n",
      "670     0.000000  ...   0.0   0.0   0.0   0.0   0.0   0.0   0.0   0.0   0.0   \n",
      "671     0.000000  ...   0.0   0.0   0.0   0.0   0.0   0.0   0.0   0.0   0.0   \n",
      "\n",
      "        9066  \n",
      "userId        \n",
      "1        0.0  \n",
      "2        0.0  \n",
      "3        0.0  \n",
      "4        0.0  \n",
      "5        0.0  \n",
      "...      ...  \n",
      "667      0.0  \n",
      "668      0.0  \n",
      "669      0.0  \n",
      "670      0.0  \n",
      "671      0.0  \n",
      "\n",
      "[671 rows x 9066 columns]\n"
     ]
    }
   ],
   "source": [
    "print(normalized_ratings_table)"
   ]
  },
  {
   "cell_type": "code",
   "execution_count": 92,
   "metadata": {},
   "outputs": [],
   "source": [
    "from sklearn.model_selection import train_test_split\n",
    "\n",
    "train, test = train_test_split(ratings_set, test_size=0.2, random_state=42)"
   ]
  },
  {
   "cell_type": "code",
   "execution_count": 76,
   "metadata": {},
   "outputs": [],
   "source": [
    "def SGD():\n",
    "    \n",
    "    alpha = 0.01\n",
    "    epochs = 10\n",
    "    l_factors = 50\n",
    "    \n",
    "    p = np.random.normal(0, .1, (R.shape[0], l_factors))\n",
    "    q = np.random.normal(0, .1, (R.shape[1], l_factors))\n",
    "    \n",
    "    for i in range(epochs):\n",
    "        for j in range(train.shape[0]):\n",
    "                user, item, rating = train[j]\n",
    "                user = user - 1\n",
    "                item = new_id[item] - 1\n",
    "                #print(user ,item , rating)\n",
    "                #print(type(user.astype(np.int32)))\n",
    "                error = rating - np.dot(p[user.astype(np.int32)], q[item.astype(np.int32)])\n",
    "                p[user.astype(np.int32)] += alpha * error * q[item.astype(np.int32)]\n",
    "                q[item.astype(np.int32)] += alpha * error * p[user.astype(np.int32)]\n",
    "    return p,q\n",
    "                "
   ]
  },
  {
   "cell_type": "code",
   "execution_count": 77,
   "metadata": {},
   "outputs": [],
   "source": [
    "P, Q = SGD()"
   ]
  },
  {
   "cell_type": "code",
   "execution_count": 79,
   "metadata": {},
   "outputs": [],
   "source": [
    "def pred(u,i):\n",
    "    return np.dot(P[u-1],Q[i-1])"
   ]
  },
  {
   "cell_type": "code",
   "execution_count": 111,
   "metadata": {},
   "outputs": [
    {
     "data": {
      "text/plain": [
       "1.8108495739044483"
      ]
     },
     "execution_count": 111,
     "metadata": {},
     "output_type": "execute_result"
    }
   ],
   "source": [
    "pred(2,1)"
   ]
  },
  {
   "cell_type": "code",
   "execution_count": 113,
   "metadata": {},
   "outputs": [],
   "source": [
    "prediction = []\n",
    "\n",
    "for i in range(len(test)):\n",
    "    #print(test[i][2],pred(test[i][0].astype(np.int32), new_id[test[i][1]].astype(np.int32)))\n",
    "    prediction.append(pred(test[i][0].astype(np.int32), new_id[test[i][1]].astype(np.int32)))"
   ]
  },
  {
   "cell_type": "code",
   "execution_count": 108,
   "metadata": {},
   "outputs": [
    {
     "name": "stdout",
     "output_type": "stream",
     "text": [
      "0.8467282508146903\n",
      "0.9201783798887531\n"
     ]
    }
   ],
   "source": [
    "from sklearn.metrics import mean_squared_error\n",
    "\n",
    "mse = mean_squared_error(test[:,2],prediction)\n",
    "print(mse)\n",
    "rmse = np.sqrt(mse)\n",
    "print(rmse)"
   ]
  }
 ],
 "metadata": {
  "kernelspec": {
   "display_name": "Python 3",
   "language": "python",
   "name": "python3"
  },
  "language_info": {
   "codemirror_mode": {
    "name": "ipython",
    "version": 3
   },
   "file_extension": ".py",
   "mimetype": "text/x-python",
   "name": "python",
   "nbconvert_exporter": "python",
   "pygments_lexer": "ipython3",
   "version": "3.8.5"
  }
 },
 "nbformat": 4,
 "nbformat_minor": 4
}
